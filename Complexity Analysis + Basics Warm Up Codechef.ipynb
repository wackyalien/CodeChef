{
 "cells": [
  {
   "cell_type": "code",
   "execution_count": 2,
   "metadata": {},
   "outputs": [
    {
     "name": "stdout",
     "output_type": "stream",
     "text": [
      "1\n",
      "1\n",
      "2\n",
      "2\n",
      "3\n",
      "3\n"
     ]
    }
   ],
   "source": [
    "while True:\n",
    "    n=int(input())\n",
    "    if n!=42:\n",
    "        print (n)\n",
    "    else:\n",
    "        break"
   ]
  },
  {
   "cell_type": "code",
   "execution_count": 2,
   "metadata": {},
   "outputs": [
    {
     "name": "stdout",
     "output_type": "stream",
     "text": [
      "1\n",
      "12\n",
      "21\n"
     ]
    }
   ],
   "source": [
    "for i in range(int(input())):\n",
    "    n = int(input()[::-1])\n",
    "    print (n)"
   ]
  },
  {
   "cell_type": "code",
   "execution_count": 2,
   "metadata": {},
   "outputs": [
    {
     "name": "stdout",
     "output_type": "stream",
     "text": [
      "6\n",
      "gaga\n",
      "Yes\n",
      "abcde\n",
      "No\n",
      "rotor\n",
      "Yes\n",
      "abbaab\n",
      "No\n",
      "ababc\n",
      "No\n",
      "xyzxy\n",
      "Yes\n"
     ]
    }
   ],
   "source": [
    "'''\n",
    "6\n",
    "gaga\n",
    "abcde\n",
    "rotor\n",
    "xyzxy\n",
    "abbaab\n",
    "ababc\n",
    "'''\n",
    "\n",
    "def CountFrequency(my_list): \n",
    "    freq = {} \n",
    "    for item in my_list: \n",
    "        if (item in freq): \n",
    "            freq[item] += 1\n",
    "        else: \n",
    "            freq[item] = 1\n",
    "    return freq\n",
    "for i in range(int(input())):\n",
    "    n = input()\n",
    "    length = len(n)\n",
    "    if (length%2!=0):\n",
    "        a=length//2\n",
    "        first_string =n[:a]\n",
    "        second_string = n[a+1:]\n",
    "    else:\n",
    "        a=length//2\n",
    "        first_string =n[:a]\n",
    "        second_string = n[a:]\n",
    "    x = CountFrequency(first_string)\n",
    "    y = CountFrequency(second_string)\n",
    "    if (x==y):\n",
    "        print (\"Yes\")\n",
    "    else:\n",
    "        print (\"No\")\n",
    "    "
   ]
  },
  {
   "cell_type": "code",
   "execution_count": 5,
   "metadata": {},
   "outputs": [
    {
     "name": "stdout",
     "output_type": "stream",
     "text": [
      "4\n",
      "14\n",
      "20\n",
      "30\n",
      "53\n",
      "60\n"
     ]
    }
   ],
   "source": [
    "'''\n",
    "4\n",
    "30\n",
    "20\n",
    "53\n",
    "14\n",
    "'''\n",
    "n = int(input())\n",
    "input_list=[]\n",
    "for i in range(n):\n",
    "    input_list.append(int(input()))\n",
    "input_list = sorted(input_list)\n",
    "price = []\n",
    "for i in range(n):\n",
    "    price.append(input_list[i]*(n-i))\n",
    "print (max(price))\n"
   ]
  },
  {
   "cell_type": "code",
   "execution_count": 2,
   "metadata": {},
   "outputs": [
    {
     "name": "stdout",
     "output_type": "stream",
     "text": [
      "1\n",
      "2\n",
      "1 5 1\n",
      "2\n",
      "1 5 2\n",
      "3\n"
     ]
    }
   ],
   "source": [
    "for i in range(int(input())):\n",
    "    for i in range(int(input())):\n",
    "        I, N, Q = map(int, input().split())\n",
    "        if (I==1 and Q==1) or (I==2 and Q==2):\n",
    "            print (N//2)\n",
    "        else:\n",
    "            print (N - N//2)\n",
    "             "
   ]
  },
  {
   "cell_type": "code",
   "execution_count": 3,
   "metadata": {},
   "outputs": [
    {
     "name": "stdout",
     "output_type": "stream",
     "text": [
      "1\n",
      "4 INDIAN\n",
      "CONTEST_WON 1\n",
      "TOP_CONTRIBUTOR\n",
      "BUG_FOUND 100\n",
      "CONTEST_HOSTED\n",
      "3\n"
     ]
    }
   ],
   "source": [
    "t = int(input()) \n",
    "for i in range(t):\n",
    "  laddus=0\n",
    "  activity,origin = input().split(' ') \n",
    "  for i in range(int(activity)):\n",
    "    act = input().split()\n",
    "    if len(act)==1:\n",
    "      if act[0] =='TOP_CONTRIBUTOR':\n",
    "        laddus+=300\n",
    "      elif act[0]=='CONTEST_HOSTED':\n",
    "        laddus+=50\n",
    "    elif len(act)==2:\n",
    "      if act[0] =='BUG_FOUND':\n",
    "        laddus+=int(act[1])\n",
    "      elif act[0]=='CONTEST_WON':\n",
    "        laddus+=300\n",
    "        if int(act[1])<20:\n",
    "          laddus+=(20-int(act[1]))\n",
    "  if origin=='INDIAN':\n",
    "    months = laddus//200\n",
    "    print(months)\n",
    "  else:\n",
    "    months = laddus//400\n",
    "    print(months)"
   ]
  },
  {
   "cell_type": "code",
   "execution_count": 7,
   "metadata": {},
   "outputs": [
    {
     "name": "stdout",
     "output_type": "stream",
     "text": [
      "3\n",
      "1\n",
      "10\n",
      "1\n",
      "3\n",
      "8 3 6\n",
      "2\n",
      "5\n",
      "4 5 1 2 3\n",
      "2\n"
     ]
    }
   ],
   "source": [
    "test_ = int(input())\n",
    "for i in range(test_):\n",
    "    a = int(input())\n",
    "    l1 = list(map(int, input().split()))\n",
    "    b = l1[0]\n",
    "    c = 1\n",
    "    for i in range(1,a):\n",
    "        if b > l1[i]:\n",
    "            b = l1[i]\n",
    "            c = c+1\n",
    "    print(c)"
   ]
  },
  {
   "cell_type": "code",
   "execution_count": null,
   "metadata": {},
   "outputs": [],
   "source": []
  }
 ],
 "metadata": {
  "kernelspec": {
   "display_name": "Python 3",
   "language": "python",
   "name": "python3"
  },
  "language_info": {
   "codemirror_mode": {
    "name": "ipython",
    "version": 3
   },
   "file_extension": ".py",
   "mimetype": "text/x-python",
   "name": "python",
   "nbconvert_exporter": "python",
   "pygments_lexer": "ipython3",
   "version": "3.6.7"
  }
 },
 "nbformat": 4,
 "nbformat_minor": 2
}
